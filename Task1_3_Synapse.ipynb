{
 "cells": [
  {
   "cell_type": "code",
   "execution_count": 1,
   "id": "cfa6a0ef-7ec8-4fe8-8626-5999a95d3984",
   "metadata": {},
   "outputs": [],
   "source": [
    "encoded_list = [[1, 2, 3, 4, 6],\n",
    "                [5, 7, 8, 9, 15],\n",
    "                [12, 14, 16, 18],\n",
    "                [10, 11, 12, 13, 16, 17, 18, 20]]"
   ]
  },
  {
   "cell_type": "code",
   "execution_count": 2,
   "id": "48a6fadd-92ae-4324-a67a-48587064910e",
   "metadata": {},
   "outputs": [],
   "source": [
    "def explode_chains(encoded_list):\n",
    "    testlist = []\n",
    "\n",
    "    for sublist in encoded_list:\n",
    "        pos = 0  # Reset the position for each sublist\n",
    "        while pos <= len(sublist) - 3:\n",
    "            if (abs(sublist[pos + 1] - sublist[pos]) == 1\n",
    "                and abs(sublist[pos + 2] - sublist[pos + 1]) == 1\n",
    "                and abs(sublist[pos + 2] - sublist[pos]) == 2):\n",
    "\n",
    "                sublist.pop(pos)\n",
    "                sublist.pop(pos)\n",
    "                sublist.pop(pos)\n",
    "            else:\n",
    "                pos += 1  \n",
    "        testlist.append(sublist)\n",
    "    \n",
    "    return testlist\n"
   ]
  },
  {
   "cell_type": "code",
   "execution_count": 3,
   "id": "e7c9d880-282c-4091-aee2-6f0075ee6819",
   "metadata": {},
   "outputs": [
    {
     "name": "stdout",
     "output_type": "stream",
     "text": [
      "[[4, 6], [5, 15], [12, 14, 16, 18], [13, 20]]\n"
     ]
    }
   ],
   "source": [
    "result_chains = explode_chains(encoded_list)\n",
    "print(result_chains)"
   ]
  },
  {
   "cell_type": "code",
   "execution_count": null,
   "id": "8586744a-7559-42dd-9a79-eb1e22b92e0e",
   "metadata": {},
   "outputs": [],
   "source": []
  }
 ],
 "metadata": {
  "kernelspec": {
   "display_name": "Python 3 (ipykernel)",
   "language": "python",
   "name": "python3"
  },
  "language_info": {
   "codemirror_mode": {
    "name": "ipython",
    "version": 3
   },
   "file_extension": ".py",
   "mimetype": "text/x-python",
   "name": "python",
   "nbconvert_exporter": "python",
   "pygments_lexer": "ipython3",
   "version": "3.11.4"
  }
 },
 "nbformat": 4,
 "nbformat_minor": 5
}
