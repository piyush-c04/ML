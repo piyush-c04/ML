{
 "cells": [
  {
   "cell_type": "code",
   "execution_count": 1,
   "id": "63a7ef1c-845d-49e6-aa5b-d55bfa075663",
   "metadata": {},
   "outputs": [],
   "source": [
    "jumbled_superheroes = ['DocToR_sTRAngE','sPidERmaN','MoON_KnigHT','caPTAIN_aMERIca','hULK']\n",
    "indices = []\n",
    "decoded_names = []"
   ]
  },
  {
   "cell_type": "code",
   "execution_count": 2,
   "id": "e3a8e8e6-3885-4866-9418-d8c6faebb8fe",
   "metadata": {},
   "outputs": [],
   "source": [
    "for index, superhero in enumerate(jumbled_superheroes,start=1):\n",
    "        indices.append(index)\n",
    "        superhero2 = superhero.lower()\n",
    "        for i in range(len(superhero)):\n",
    "                if(superhero[i]=='_'):\n",
    "                    #print(superhero2,\"\\n\")   #just to check which ones actually have _ to be replaced\n",
    "                    superhero2 = superhero2.replace(\"_\" , \" \")\n",
    "                    # print(superhero2,\"\\n\")  #to check if replacement takes place or not\n",
    "\n",
    "        decoded_names.append(superhero2)"
   ]
  },
  {
   "cell_type": "code",
   "execution_count": 3,
   "id": "41e4ff0f-db97-4283-b616-3adea31e3d7c",
   "metadata": {},
   "outputs": [],
   "source": [
    "name_lengths = lambda superhero2 : len(superhero2)\n",
    "name_lengths=list(map(name_lengths,decoded_names))\n",
    "name_lengths.sort()"
   ]
  },
  {
   "cell_type": "code",
   "execution_count": 4,
   "id": "319868a7-f800-49aa-ba26-e3d8832a9872",
   "metadata": {},
   "outputs": [
    {
     "data": {
      "text/plain": [
       "'\\nsorted_by_length = sorted(decoded_names,key=len)\\n#print(indices)\\n#print(sorted_by_length)\\n'"
      ]
     },
     "execution_count": 4,
     "metadata": {},
     "output_type": "execute_result"
    }
   ],
   "source": [
    "\"\"\"\n",
    "sorted_by_length = sorted(decoded_names,key=len)\n",
    "#print(indices)\n",
    "#print(sorted_by_length)\n",
    "\"\"\""
   ]
  },
  {
   "cell_type": "code",
   "execution_count": 6,
   "id": "19be254a-0d97-4f10-bb09-beb2552d422f",
   "metadata": {},
   "outputs": [
    {
     "name": "stdout",
     "output_type": "stream",
     "text": [
      "((1, 4), 'hulk')\n",
      "((2, 9), 'spiderman')\n",
      "((3, 11), 'moon knight')\n",
      "((4, 14), 'doctor strange')\n",
      "((5, 15), 'captain america')\n"
     ]
    }
   ],
   "source": [
    "index_name_length_pairs= list(zip(indices, name_lengths))\n",
    "index_name_length_pairs.sort(key=lambda pair: pair[1])\n",
    "#print(index_name_length_pairs)\n",
    "sorted_indices = [pair[0] for pair in index_name_length_pairs]\n",
    "sorted_by_length = sorted(decoded_names,key=len)\n",
    "final =list(zip(index_name_length_pairs,sorted_by_length))\n",
    "for i in range(len(decoded_names)):\n",
    "       print(final[i])"
   ]
  },
  {
   "cell_type": "code",
   "execution_count": null,
   "id": "fab0c96e-744f-4461-85fd-277f4bbb9ec2",
   "metadata": {},
   "outputs": [],
   "source": []
  }
 ],
 "metadata": {
  "kernelspec": {
   "display_name": "Python 3 (ipykernel)",
   "language": "python",
   "name": "python3"
  },
  "language_info": {
   "codemirror_mode": {
    "name": "ipython",
    "version": 3
   },
   "file_extension": ".py",
   "mimetype": "text/x-python",
   "name": "python",
   "nbconvert_exporter": "python",
   "pygments_lexer": "ipython3",
   "version": "3.11.4"
  }
 },
 "nbformat": 4,
 "nbformat_minor": 5
}
