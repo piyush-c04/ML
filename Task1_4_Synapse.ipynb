{
 "cells": [
  {
   "cell_type": "code",
   "execution_count": 1,
   "id": "d229254c-222f-451e-a551-2cd295ff8f2d",
   "metadata": {},
   "outputs": [],
   "source": [
    "import random \n",
    "class ChessPlayer:\n",
    "    def __init__(self, name, age, elo_rating, tenacity, is_boring):\n",
    "        self.name = name\n",
    "        self.age = age\n",
    "        self.elo_rating = elo_rating\n",
    "        self.tenacity = tenacity\n",
    "        self.is_boring = is_boring\n",
    "        self.tournament_score = 0\n",
    "\n"
   ]
  },
  {
   "cell_type": "code",
   "execution_count": 2,
   "id": "fe37b1c2-3608-4efb-8c22-e35f66681fcd",
   "metadata": {},
   "outputs": [],
   "source": [
    "def simulateMatch(player1,player2):\n",
    "        elo_difference = abs(player1.elo_rating - player2.elo_rating) \n",
    "\n",
    "\n",
    "        if elo_difference>100:\n",
    "            if player1.elo_rating > player2.elo_rating:\n",
    "                  player1.tournament_score += 1\n",
    "            else :\n",
    "                  player2.tournament_score +=1\n",
    "                \n",
    "        elif elo_difference<100 and elo_difference >50:\n",
    "             if player1.elo_rating > player2.elo_rating :\n",
    "                   player1.tournament_score += 1\n",
    "                   \n",
    "             elif player2.elo_rating > player1.elo_rating :\n",
    "                  rand = random.randint(1,10)\n",
    "                  player2.tenacity*=rand\n",
    "                  if player2.tenacity > player1.tenacity:\n",
    "                       player2.tournament_score +=1\n",
    "                       \n",
    "                  else :\n",
    "                       player1.tournament_score +=1\n",
    "                      \n",
    "\n",
    "             elif elo_difference <50:\n",
    "                  if player1.tenacity > player2.tenacity:\n",
    "                       player1.tournament_score +=1\n",
    "                       \n",
    "                  else:\n",
    "                       player2.tournament_score +=1\n",
    "                       \n",
    "\n",
    "\n",
    "             elif player1.is_boring ==\"true\" or player2.is_boring==\"true\":\n",
    "                  if elo_difference <100:\n",
    "                       player1.tournament_score = 0.5 \n",
    "                       player2.tournament_score = 0.5\n",
    "                       print(\"draw\")\n",
    "\n",
    "\n",
    "             if player1.tournament_score >0.5 and player1.tournament_score<=1:\n",
    "                print(player1.name,\" Won \" ,player2.name,\" Lost\")\n",
    "             if player2.tournament_score >0.5 and player2.tournament_score<=1:\n",
    "                print(player2.name,\" Won \" ,player1.name,\" Lost\") \n",
    "          \n",
    "             \n"
   ]
  },
  {
   "cell_type": "code",
   "execution_count": 3,
   "id": "d9362c63-1e09-4dc9-a3d7-9899fdf27b48",
   "metadata": {},
   "outputs": [],
   "source": [
    "players =[ChessPlayer(\"Courage the Cowardly Dog\",25,1000.39,1000,\"true\"),ChessPlayer(\"Princess Peach\",23,945.65,50,\"false\"),\n",
    "          ChessPlayer(\"Walter White\",50,1650.73,750,\"false\"),ChessPlayer(\"Rory Gilmore\",16,1700.87,500,\"false\"),\n",
    "          ChessPlayer(\"Anthony Fantano\",37,1400.45,400,\"true\"),ChessPlayer(\"Beth Harmon\",20,2500.34,150,\"false\")]                  \n"
   ]
  },
  {
   "cell_type": "code",
   "execution_count": 4,
   "id": "8ca78640-03cb-471b-ab59-2bcd94f9f0a9",
   "metadata": {},
   "outputs": [
    {
     "name": "stdout",
     "output_type": "stream",
     "text": [
      "Courage the Cowardly Dog  Won  Princess Peach  Lost\n"
     ]
    }
   ],
   "source": [
    "for i,player1 in enumerate(players):\n",
    "     for j,player2 in enumerate(players):\n",
    "          if i!=j:\n",
    "               simulateMatch(player1, player2)\n",
    "               simulateMatch(player2, player1)"
   ]
  },
  {
   "cell_type": "code",
   "execution_count": null,
   "id": "8e9037c2-ca85-467e-967c-eec1f8852339",
   "metadata": {},
   "outputs": [],
   "source": []
  }
 ],
 "metadata": {
  "kernelspec": {
   "display_name": "Python 3 (ipykernel)",
   "language": "python",
   "name": "python3"
  },
  "language_info": {
   "codemirror_mode": {
    "name": "ipython",
    "version": 3
   },
   "file_extension": ".py",
   "mimetype": "text/x-python",
   "name": "python",
   "nbconvert_exporter": "python",
   "pygments_lexer": "ipython3",
   "version": "3.11.4"
  }
 },
 "nbformat": 4,
 "nbformat_minor": 5
}
