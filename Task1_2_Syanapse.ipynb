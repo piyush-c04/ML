{
 "cells": [
  {
   "cell_type": "code",
   "execution_count": 1,
   "id": "153bb122-fdd8-4927-b9bd-f54cc26ce2d1",
   "metadata": {},
   "outputs": [],
   "source": [
    "from itertools import combinations\n",
    "lst = ['0001', '0011', '0101', '1011', '1101', '1111']\n",
    "new_lst = [int(i, 2) for i in lst] #Converting into a list of decimal numbers\n"
   ]
  },
  {
   "cell_type": "code",
   "execution_count": 2,
   "id": "1255462d-5ca0-41b0-92d9-f8f33bd7c131",
   "metadata": {},
   "outputs": [],
   "source": [
    "a = []\n",
    "for r in range(1,len(new_lst)):\n",
    "    for c in combinations(new_lst,r):\n",
    "        a.append(c)\n",
    "\n",
    "#print(a)  just to check what combinations are forming"
   ]
  },
  {
   "cell_type": "code",
   "execution_count": 8,
   "id": "756c636c-e02f-4973-8a9e-fc029f39a5aa",
   "metadata": {},
   "outputs": [],
   "source": [
    "diff = []\n",
    "#res = []\n",
    "for items in a:\n",
    "    res = [i for i in new_lst if i not in items]\n",
    "    \n",
    "    c = abs(sum(res) - sum(items)) #sum is predefined\n",
    "    diff.append(c)\n",
    "\n",
    "#print(diff)"
   ]
  },
  {
   "cell_type": "code",
   "execution_count": 9,
   "id": "d0a592a6-87a1-4c4e-9f28-3cd39c11ee2c",
   "metadata": {},
   "outputs": [
    {
     "name": "stdout",
     "output_type": "stream",
     "text": [
      "The least difference is: 0\n"
     ]
    }
   ],
   "source": [
    "#print(res)\n",
    "print(f\"The least difference is: {sorted(diff)[0]}\") # To print the Minimum value in the ascending sorted list"
   ]
  },
  {
   "cell_type": "code",
   "execution_count": null,
   "id": "3b32a4f1-093b-405f-abfb-df181df24b79",
   "metadata": {},
   "outputs": [],
   "source": []
  }
 ],
 "metadata": {
  "kernelspec": {
   "display_name": "Python 3 (ipykernel)",
   "language": "python",
   "name": "python3"
  },
  "language_info": {
   "codemirror_mode": {
    "name": "ipython",
    "version": 3
   },
   "file_extension": ".py",
   "mimetype": "text/x-python",
   "name": "python",
   "nbconvert_exporter": "python",
   "pygments_lexer": "ipython3",
   "version": "3.11.4"
  }
 },
 "nbformat": 4,
 "nbformat_minor": 5
}
